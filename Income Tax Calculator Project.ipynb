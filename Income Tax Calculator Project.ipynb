{
 "cells": [
  {
   "cell_type": "code",
   "execution_count": null,
   "metadata": {},
   "outputs": [],
   "source": [
    "#Program to calculate a person's taxes\n",
    "\n",
    "gross_income = float(input(\"Enter the gross income: \"))\n",
    "dependents= int(input(\"Enter the number of dependents: \"))\n",
    "\n",
    "flat_tax_rate = 0.20\n",
    "standard_deduction = 10000\n",
    "deductions_calculation = (gross_income - standard_deduction) - (dependents * 3000)\n",
    "\n",
    "\n",
    "print(\"Enter the gross income:\",gross_income)\n",
    "print(\"Enter the number of dependents:\", dependents)\n",
    "\n",
    "if gross_income >= 0:\n",
    "    income_tax = deductions_calculation * flat_tax_rate\n",
    "    print(\"The income tax is\", \"${:.2f}\".format(income_tax))"
   ]
  }
 ],
 "metadata": {
  "kernelspec": {
   "display_name": "Python 3.9.7 ('base')",
   "language": "python",
   "name": "python3"
  },
  "language_info": {
   "name": "python",
   "version": "3.9.7"
  },
  "orig_nbformat": 4,
  "vscode": {
   "interpreter": {
    "hash": "7e22136019ad3cc21914fc1e69fbdecf01aa702ccce5e0696df07dfa08e0c67d"
   }
  }
 },
 "nbformat": 4,
 "nbformat_minor": 2
}
